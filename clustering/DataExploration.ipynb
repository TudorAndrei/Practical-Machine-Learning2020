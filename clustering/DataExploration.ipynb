{
 "cells": [
  {
   "cell_type": "code",
   "execution_count": 46,
   "metadata": {},
   "outputs": [],
   "source": [
    "import pandas as pd\n",
    "import numpy as np\n",
    "from collections import Counter"
   ]
  },
  {
   "cell_type": "code",
   "execution_count": 47,
   "metadata": {},
   "outputs": [],
   "source": [
    "path = 'reviews'\n",
    "# artists = pd.read_csv(f'{path}/artists.csv')\n",
    "content = pd.read_csv(f'{path}/content.csv')\n",
    "genres = pd.read_csv(f'{path}/genres.csv')\n",
    "# labels = pd.read_csv(f'{path}/labels.csv')\n",
    "# reviews = pd.read_csv(f'{path}/reviews.csv')\n",
    "# years = pd.read_csv(f'{path}/years.csv')"
   ]
  },
  {
   "cell_type": "code",
   "execution_count": 48,
   "metadata": {},
   "outputs": [],
   "source": [
    "genres.drop_duplicates([\"reviewid\"], inplace=True, ignore_index=True)\n",
    "content.drop_duplicates([\"content\"], inplace=True, ignore_index=True)"
   ]
  },
  {
   "cell_type": "code",
   "execution_count": 49,
   "metadata": {},
   "outputs": [],
   "source": [
    "dataset = pd.merge(content, genres, on='reviewid', how='outer')\n",
    "content.drop_duplicates([\"reviewid\"], inplace=True, ignore_index=True)\n",
    "# dataset = pd.merge(dataset, labels, on='reviewid', how='outer')\n",
    "# dataset = pd.merge(dataset, reviews, on='reviewid', how='outer')\n",
    "# dataset = pd.merge(dataset, years, on='reviewid', how='outer')\n",
    "dataset.dropna(axis=0, how='any', inplace=True)"
   ]
  },
  {
   "cell_type": "code",
   "execution_count": 50,
   "metadata": {},
   "outputs": [
    {
     "data": {
      "text/plain": [
       "[('rock', 9430),\n",
       " ('electronic', 1993),\n",
       " ('rap', 1488),\n",
       " ('pop/r&b', 1087),\n",
       " ('folk/country', 574),\n",
       " ('experimental', 562),\n",
       " ('metal', 357),\n",
       " ('jazz', 341),\n",
       " ('global', 183)]"
      ]
     },
     "execution_count": 50,
     "metadata": {},
     "output_type": "execute_result"
    },
    {
     "data": {
      "image/png": "[encoded data removed]",
      "text/plain": [
       "<Figure size 432x288 with 1 Axes>"
      ]
     },
     "metadata": {
      "needs_background": "light"
     },
     "output_type": "display_data"
    }
   ],
   "source": [
    "dataset.genre.value_counts().plot( kind='bar')\n",
    "Counter(dataset.genre).most_common(10)"
   ]
  },
  {
   "cell_type": "code",
   "execution_count": 43,
   "metadata": {},
   "outputs": [],
   "source": [
    "dataset[['content', 'genre']].head(1500).to_csv(\"data/content_dataset.csv\", index=False)"
   ]
  },
  {
   "cell_type": "code",
   "execution_count": 52,
   "metadata": {},
   "outputs": [],
   "source": [
    "dataset[['content', 'genre']].to_csv(\"data/content_dataset_full.csv\", index=False)"
   ]
  },
  {
   "cell_type": "code",
   "execution_count": null,
   "metadata": {},
   "outputs": [],
   "source": []
  }
 ],
 "metadata": {
  "kernelspec": {
   "display_name": "Python 3",
   "language": "python",
   "name": "python3"
  },
  "language_info": {
   "codemirror_mode": {
    "name": "ipython",
    "version": 3
   },
   "file_extension": ".py",
   "mimetype": "text/x-python",
   "name": "python",
   "nbconvert_exporter": "python",
   "pygments_lexer": "ipython3",
   "version": "3.8.5"
  }
 },
 "nbformat": 4,
 "nbformat_minor": 4
}

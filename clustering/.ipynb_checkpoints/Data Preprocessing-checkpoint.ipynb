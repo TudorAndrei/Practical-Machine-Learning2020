{
 "cells": [
  {
   "cell_type": "code",
   "execution_count": 48,
   "metadata": {},
   "outputs": [],
   "source": [
    "import pandas as pd\n",
    "import numpy as np\n",
    "from tqdm import tqdm\n",
    "import unicodedata\n",
    "import regex\n",
    "from autocorrect import spell\n",
    "\n",
    "from nltk.stem.snowball import SnowballStemmer"
   ]
  },
  {
   "cell_type": "code",
   "execution_count": 39,
   "metadata": {},
   "outputs": [],
   "source": [
    "path = r'data/content_dataset.csv'\n",
    "data = pd.read_csv(path, encoding='utf-8')"
   ]
  },
  {
   "cell_type": "code",
   "execution_count": 45,
   "metadata": {},
   "outputs": [],
   "source": [
    "def text_cleaner(text):\n",
    "    rules = [\n",
    "        {r'>\\s+': u'>'},  # remove spaces after a tag opens or closes\n",
    "        {r'\\s+': u' '},  # replace consecutive spaces\n",
    "        {r'\\s*<br\\s*/?>\\s*': u'\\n'},  # newline after a <br>\n",
    "        {r'</(div)\\s*>\\s*': u'\\n'},  # newline after </p> and </div> and <h1/>...\n",
    "        {r'</(p|h\\d)\\s*>\\s*': u'\\n\\n'},  # newline after </p> and </div> and <h1/>...\n",
    "        {r'<head>.*<\\s*(/head|body)[^>]*>': u''},  # remove <head> to </head>\n",
    "        {r'<a\\s+href=\"([^\"]+)\"[^>]*>.*</a>': r'\\1'},  # show links instead of texts\n",
    "        {r'[ \\t]*<[^<]*?/?>': u''},  # remove remaining tags\n",
    "        {r'^\\s+': u''}  # remove spaces at the beginning\n",
    "    ]\n",
    "    \n",
    "    for rule in rules:\n",
    "        for (k, v) in rule.items():\n",
    "            regex = re.compile(k)\n",
    "            text = regex.sub(v, text)\n",
    "        text = text.rstrip()\n",
    "    return text.lower()\n",
    "\n",
    "def remove_xa0(text):\n",
    "    # Remove the \\xa0 symbol from the text, this appears due to some encoding error\n",
    "    return unicodedata.normalize(\"NFKD\",  text)\n",
    "\n",
    "def spelling(text):\n",
    "    # Correct spelling\n",
    "    \n",
    "    \n",
    "\n",
    "def stemmer(text):\n",
    "    \n",
    "    stemmer = SnowballStemmer(\"porter\")\n",
    "    \n",
    "    \n",
    "\n",
    "def Lemmatization(text):\n",
    "    \n",
    "    \n",
    "    \n",
    "# Stemming for tfidf\n",
    "\n",
    "# Lemmatization of word2vec\n",
    "\n",
    "def preprocess(dataframe):\n",
    "    \n",
    "    df = dataframe.copy()\n",
    "    methods = [remove_xa0, text_cleaner]\n",
    "    methods = {'remove \\xa0': remove_xa0,\n",
    "              'clean the text': text_cleaner,\n",
    "              'spelling': spelling,\n",
    "              'stemming': stemmer}\n",
    "    \n",
    "    for method in methods.keys():\n",
    "        print(f\"Performing method {method}\")\n",
    "        df.iloc[a, 0]= df.iloc[a, 0].apply(lambda x: methods[method](x))\n",
    "    \n",
    "    \n",
    "    # Stem the words\n",
    "    \n",
    "    "
   ]
  },
  {
   "cell_type": "code",
   "execution_count": null,
   "metadata": {},
   "outputs": [],
   "source": [
    "clean_data = preprocess(data)"
   ]
  },
  {
   "cell_type": "code",
   "execution_count": null,
   "metadata": {},
   "outputs": [],
   "source": []
  },
  {
   "cell_type": "code",
   "execution_count": null,
   "metadata": {},
   "outputs": [],
   "source": []
  }
 ],
 "metadata": {
  "kernelspec": {
   "display_name": "Python 3",
   "language": "python",
   "name": "python3"
  },
  "language_info": {
   "codemirror_mode": {
    "name": "ipython",
    "version": 3
   },
   "file_extension": ".py",
   "mimetype": "text/x-python",
   "name": "python",
   "nbconvert_exporter": "python",
   "pygments_lexer": "ipython3",
   "version": "3.8.5"
  }
 },
 "nbformat": 4,
 "nbformat_minor": 4
}

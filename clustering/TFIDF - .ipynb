{
 "cells": [
  {
   "cell_type": "code",
   "execution_count": 18,
   "metadata": {},
   "outputs": [],
   "source": [
    "import pandas as pd\n",
    "from sklearn.feature_extraction.text import TfidfVectorizer\n",
    "from sklearn.ensemble import RandomForestClassifier\n",
    "from sklearn.model_selection import train_test_split\n",
    "from sklearn.neighbors import KNeighborsClassifier\n",
    "from sklearn.metrics import accuracy_score, classification_report, silhouette_score\n",
    "from sklearn.pipeline import Pipeline\n",
    "from sklearn.cluster import KMeans,DBSCAN, MiniBatchKMeans\n",
    "from sklearn.decomposition import PCA,TruncatedSVD\n",
    "from sklearn.manifold import TSNE\n",
    "import numpy as np\n",
    "from yellowbrick.cluster import KElbowVisualizer\n",
    "from yellowbrick.text import TSNEVisualizer\n",
    "import matplotlib.pyplot as plt\n",
    "from sklearn.preprocessing import LabelEncoder\n",
    "from collections import Counter\n",
    "import random\n",
    "rs = 42 # random state\n",
    "# np.random.seed(42)"
   ]
  },
  {
   "cell_type": "code",
   "execution_count": 2,
   "metadata": {},
   "outputs": [],
   "source": [
    "def random_prediction(X_test, y_test):\n",
    "    labels = list(set(y_test))\n",
    "    prediction = [np.random.choice(labels) for _ in X_test]\n",
    "    return accuracy_score(y_test, prediction)\n",
    "\n",
    "def get_random_prediction(X_test, y_test, trials=1000):\n",
    "    sum = 0\n",
    "    trials\n",
    "    for i in range(trials):\n",
    "        sum += random_prediction(X_test, y_test)\n",
    "    return sum/trials\n",
    "\n",
    "COLORS = ['tab:blue', 'tab:orange', 'tab:green', 'tab:red', 'tab:purple', 'tab:brown', 'tab:pink', 'tab:olive', 'tab:cyan', 'tab:gray']\n",
    "MARKERS = ['o', 'v', 's', '<', '>', '8', '^', 'p', '*', 'h', 'H', 'D', 'd', 'P', 'X']\n",
    "\n",
    "def plot2d(X, y_pred, y_true, mode=None, centroids=None):\n",
    "    transformer = None\n",
    "    X_r = X\n",
    "    \n",
    "    if mode is not None:\n",
    "        transformer = mode(n_components=2, random_state=42)\n",
    "        X_r = transformer.fit_transform(X)\n",
    "\n",
    "    assert X_r.shape[1] == 2, 'plot2d only works with 2-dimensional data'\n",
    "\n",
    "\n",
    "    plt.grid()\n",
    "    for ix, iyp, iyt in zip(X_r, y_pred, y_true):\n",
    "        plt.plot(ix[0], ix[1], \n",
    "                    c=COLORS[iyp], \n",
    "                    marker=MARKERS[iyt])\n",
    "        \n",
    "    if centroids is not None:\n",
    "        C_r = centroids\n",
    "        if transformer is not None:\n",
    "            C_r = transformer.transform(centroids)\n",
    "        for cx in C_r:\n",
    "            plt.plot(cx[0], cx[1], \n",
    "                        marker=MARKERS[-1], \n",
    "                        markersize=10,\n",
    "                        c='red')\n",
    "    plt.legend()\n",
    "    plt.show()\n",
    "\n",
    "# def plot_clusters(X, y_pred, y_true, transformer='pca', centroids):\n",
    "    \n",
    "#     pca = PCA(n_components=2, random_state=42)\n",
    "#     tsne = TSNE(n_components=2, random_state=42)\n",
    "    \n",
    "#     tr = pca\n",
    "#     if mode == 'tsne':\n",
    "#         tr = tsne\n",
    "    \n",
    "#     reduced_features = pca.fit_transform(features.toarray())\n",
    "#     reduced_centroids = tr.transform(centroids)\n",
    "#     plt.scatter(reduced_features[:,0], reduced_features[:,1], c=cls.predict(features))\n",
    "#     plt.scatter(reduced_cluster_centers[:, 0], reduced_cluster_centers[:,1], marker='x', s=150, c='b')\n",
    "\n",
    "\n",
    "def plot3d(X, y_pred, y_true, mode=None, centroids=None):\n",
    "    transformer = None\n",
    "    X_r = X\n",
    "    if mode is not None:\n",
    "        transformer = mode(n_components=3)\n",
    "        X_r = transformer.fit_transform(X)\n",
    "\n",
    "    assert X_r.shape[1] == 3, 'plot2d only works with 3-dimensional data'\n",
    "\n",
    "    fig = plt.figure()\n",
    "    ax = fig.add_subplot(projection='3d')\n",
    "    ax.elev = 30\n",
    "    ax.azim = 120\n",
    "\n",
    "    for ix, iyp, iyt in zip(X_r, y_pred, y_true):\n",
    "        ax.plot(xs=[ix[0]], ys=[ix[1]], zs=[ix[2]], zdir='z',\n",
    "                    c=COLORS[iyp], \n",
    "                    marker=MARKERS[iyt])\n",
    "        \n",
    "    if centroids is not None:\n",
    "        C_r = centroids\n",
    "        if transformer is not None:\n",
    "            C_r = transformer.fit_transform(centroids)\n",
    "        for cx in C_r:\n",
    "            ax.plot(xs=[cx[0]], ys=[cx[1]], zs=[cx[2]], zdir='z',\n",
    "                        marker=MARKERS[-1], \n",
    "                        markersize=10,\n",
    "                        c='red')\n",
    "    plt.show()"
   ]
  },
  {
   "cell_type": "code",
   "execution_count": 22,
   "metadata": {},
   "outputs": [],
   "source": [
    "path = r'./data/processed_full.csv'\n",
    "data = pd.read_csv(path)\n",
    "# data = data[data['genre'] != 'rock']\n"
   ]
  },
  {
   "cell_type": "code",
   "execution_count": 24,
   "metadata": {},
   "outputs": [
    {
     "name": "stdout",
     "output_type": "stream",
     "text": [
      "Counter({'rock': 9430, 'electronic': 1993, 'rap': 1488, 'pop/r&b': 1087, 'folk/country': 574, 'experimental': 562, 'metal': 357, 'jazz': 341, 'global': 183})\n",
      "16015\n"
     ]
    }
   ],
   "source": [
    "# print(data.genre.unique()\n",
    "print(Counter(data.genre))\n",
    "print(len(data.index))"
   ]
  },
  {
   "cell_type": "code",
   "execution_count": 20,
   "metadata": {},
   "outputs": [],
   "source": [
    "X = data.content.apply(lambda x: np.str_(x))\n",
    "y = data.genre.apply(lambda x: np.str_(x))"
   ]
  },
  {
   "cell_type": "code",
   "execution_count": 5,
   "metadata": {},
   "outputs": [],
   "source": [
    "# X = data.content.head(1500).apply(lambda x: np.str_(x))\n",
    "# y = data.genre.head(1500).apply(lambda x: np.str_(x))"
   ]
  },
  {
   "cell_type": "code",
   "execution_count": 6,
   "metadata": {},
   "outputs": [
    {
     "name": "stdout",
     "output_type": "stream",
     "text": [
      "(1500,)\n",
      "(1500,)\n"
     ]
    }
   ],
   "source": [
    "print(X.shape)\n",
    "print(y.shape)"
   ]
  },
  {
   "cell_type": "code",
   "execution_count": 7,
   "metadata": {},
   "outputs": [],
   "source": [
    "tfidf = TfidfVectorizer(min_df=30)\n",
    "le = LabelEncoder()"
   ]
  },
  {
   "cell_type": "code",
   "execution_count": 8,
   "metadata": {},
   "outputs": [],
   "source": [
    "X_train, X_test, y_train, y_test = train_test_split(X, y, train_size=0.8, shuffle=True, random_state=rs) "
   ]
  },
  {
   "cell_type": "code",
   "execution_count": 9,
   "metadata": {},
   "outputs": [],
   "source": [
    "X_train  = tfidf.fit_transform(X_train)\n",
    "X_test = tfidf.transform(X_test)\n",
    "\n",
    "y_train_labels = le.fit_transform(y_train)\n",
    "y_test_labels = le.fit_transform(y_test)"
   ]
  },
  {
   "cell_type": "markdown",
   "metadata": {},
   "source": [
    "# Baselie prediction"
   ]
  },
  {
   "cell_type": "code",
   "execution_count": 10,
   "metadata": {},
   "outputs": [],
   "source": [
    "# print(get_random_prediction(X_test, y_test, 2) * 100)"
   ]
  },
  {
   "cell_type": "markdown",
   "metadata": {},
   "source": [
    "# Random Forest"
   ]
  },
  {
   "cell_type": "code",
   "execution_count": 10,
   "metadata": {},
   "outputs": [
    {
     "name": "stdout",
     "output_type": "stream",
     "text": [
      "62.33333333333333\n"
     ]
    }
   ],
   "source": [
    "# model = RandomForestClassifier()\n",
    "# model.fit(X_train, y_train)\n",
    "# print(model.score(X_test, y_test) * 100)"
   ]
  },
  {
   "cell_type": "markdown",
   "metadata": {},
   "source": [
    "# k Means"
   ]
  },
  {
   "cell_type": "code",
   "execution_count": 12,
   "metadata": {},
   "outputs": [],
   "source": [
    "# nr_clusters = len(set(y_train))\n",
    "# print(nr_clusters)"
   ]
  },
  {
   "cell_type": "code",
   "execution_count": 13,
   "metadata": {},
   "outputs": [],
   "source": [
    "# km = MiniBatchKMeans(random_state=42)\n",
    "\n",
    "# sil = KElbowVisualizer(km, k=(4,10), metric='silhouette', timings=False)\n",
    "\n",
    "# sil.fit(X_train)        # Fit the data to the visualizer\n",
    "# sil.show()        # Finalize and render the figure"
   ]
  },
  {
   "cell_type": "code",
   "execution_count": 14,
   "metadata": {},
   "outputs": [],
   "source": [
    "# distortion = KElbowVisualizer(km, k=(4,15), timings=False)\n",
    "\n",
    "# distortion.fit(X_train)        # Fit the data to the visualizer\n",
    "# distortion.show()        # Finalize and render the figure"
   ]
  },
  {
   "cell_type": "code",
   "execution_count": 11,
   "metadata": {},
   "outputs": [
    {
     "data": {
      "text/plain": [
       "KMeans()"
      ]
     },
     "execution_count": 11,
     "metadata": {},
     "output_type": "execute_result"
    }
   ],
   "source": [
    "kmeans = KMeans(n_clusters=8)\n",
    "kmeans.fit(X_train)"
   ]
  },
  {
   "cell_type": "code",
   "execution_count": 12,
   "metadata": {},
   "outputs": [
    {
     "name": "stdout",
     "output_type": "stream",
     "text": [
      "[0 0 7 ... 3 7 5]\n",
      "[1 6 6 ... 0 0 5]\n"
     ]
    }
   ],
   "source": [
    "print(kmeans.labels_)\n",
    "print(y_train_labels)"
   ]
  },
  {
   "cell_type": "code",
   "execution_count": null,
   "metadata": {},
   "outputs": [],
   "source": [
    "print(silhouette_score(data, estimator[-1].labels_,metric=\"euclidean\", sample_size=300, random_state=rs)"
   ]
  }
 ],
 "metadata": {
  "kernelspec": {
   "display_name": "Python 3",
   "language": "python",
   "name": "python3"
  },
  "language_info": {
   "codemirror_mode": {
    "name": "ipython",
    "version": 3
   },
   "file_extension": ".py",
   "mimetype": "text/x-python",
   "name": "python",
   "nbconvert_exporter": "python",
   "pygments_lexer": "ipython3",
   "version": "3.8.5"
  }
 },
 "nbformat": 4,
 "nbformat_minor": 4
}

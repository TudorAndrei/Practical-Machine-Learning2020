{
 "cells": [
  {
   "cell_type": "code",
   "execution_count": 25,
   "metadata": {},
   "outputs": [],
   "source": [
    "import pandas as pd\n",
    "from sklearn.feature_extraction.text import TfidfVectorizer\n",
    "from sklearn.ensemble import RandomForestClassifier\n",
    "from sklearn.model_selection import train_test_split\n",
    "from sklearn.neighbors import KNeighborsClassifier\n",
    "from sklearn.metrics import accuracy_score, classification_report\n",
    "from sklearn.metrics import silhouette_score,adjusted_mutual_info_score,completeness_score, homogeneity_score\n",
    "from sklearn.pipeline import Pipeline\n",
    "from sklearn.cluster import KMeans,DBSCAN, MiniBatchKMeans\n",
    "from sklearn.decomposition import PCA,TruncatedSVD\n",
    "from sklearn.manifold import TSNE\n",
    "import numpy as np\n",
    "from yellowbrick.cluster import KElbowVisualizer\n",
    "from yellowbrick.text import TSNEVisualizer\n",
    "import matplotlib.pyplot as plt\n",
    "from sklearn.preprocessing import LabelEncoder\n",
    "from collections import Counter\n",
    "import random\n",
    "rs = 42 # random state\n",
    "# np.random.seed(42)"
   ]
  },
  {
   "cell_type": "code",
   "execution_count": 23,
   "metadata": {},
   "outputs": [],
   "source": [
    "def random_prediction(X_test, y_test):\n",
    "    labels = list(set(y_test))\n",
    "    prediction = [np.random.choice(labels) for _ in X_test]\n",
    "    return accuracy_score(y_test, prediction)\n",
    "\n",
    "def get_random_prediction(X_test, y_test, trials=1000):\n",
    "    sum = 0\n",
    "    trials\n",
    "    for i in range(trials):\n",
    "        sum += random_prediction(X_test, y_test)\n",
    "    return sum/trials\n",
    "\n",
    "COLORS = ['tab:blue', 'tab:orange', 'tab:green', 'tab:red', 'tab:purple', 'tab:brown', 'tab:pink', 'tab:olive', 'tab:cyan', 'tab:gray']\n",
    "MARKERS = ['o', 'v', 's', '<', '>', '8', '^', 'p', '*', 'h', 'H', 'D', 'd', 'P', 'X']\n",
    "\n",
    "def plot2d(X, y_pred, y_true, mode=None, centroids=None):\n",
    "    transformer = None\n",
    "    X_r = X\n",
    "    \n",
    "    if mode is not None:\n",
    "        transformer = mode(n_components=2, random_state=42)\n",
    "        X_r = transformer.fit_transform(X)\n",
    "\n",
    "    assert X_r.shape[1] == 2, 'plot2d only works with 2-dimensional data'\n",
    "\n",
    "\n",
    "    plt.grid()\n",
    "    for ix, iyp, iyt in zip(X_r, y_pred, y_true):\n",
    "        plt.plot(ix[0], ix[1], \n",
    "                    c=COLORS[iyp], \n",
    "                    marker=MARKERS[iyt])\n",
    "        \n",
    "    if centroids is not None:\n",
    "        C_r = centroids\n",
    "        if transformer is not None:\n",
    "            C_r = transformer.fit_transform(centroids)\n",
    "        for cx in C_r:\n",
    "            plt.plot(cx[0], cx[1], \n",
    "                        marker=MARKERS[-1], \n",
    "                        markersize=10,\n",
    "                        c='red')\n",
    "    plt.legend()\n",
    "    plt.show()\n",
    "\n",
    "def score_results():\n",
    "    metrics = {'Adjusted Mutual Info Score': adjusted_mutual_info_score,\n",
    "               'Completeness Score': completeness_score,\n",
    "               'homogeneity Score': homogeneity_score} \n",
    "    for name, func in metrics.items():\n",
    "        print(f'{name} -> {func(true_labels, predicted_labels))}')\n",
    "        \n",
    "    print('Silhouette Score')\n",
    "    silhouette_score,\n",
    "    "
   ]
  },
  {
   "cell_type": "code",
   "execution_count": 30,
   "metadata": {},
   "outputs": [
    {
     "name": "stdout",
     "output_type": "stream",
     "text": [
      "a 1\n",
      "b 2\n"
     ]
    }
   ],
   "source": [
    "diic = {'a': 1, \"b\":2}\n",
    "for x,y in diic.items():\n",
    "    print(x, y)"
   ]
  },
  {
   "cell_type": "code",
   "execution_count": 24,
   "metadata": {},
   "outputs": [],
   "source": [
    "path = r'./data/processed_full.csv'\n",
    "samples = 400\n",
    "data = pd.read_csv(path)\n",
    "new_data = pd.DataFrame()\n",
    "cols = ['rock', 'electronic', 'rap', 'pop/r&b', 'folk/country', 'experimental', 'metal', 'jazz']\n",
    "for col in cols:\n",
    "    try:\n",
    "        aux = data[data['genre'] == col].sample(samples, axis=0, random_state=rs)\n",
    "    except:\n",
    "        sub_sample = len(data[data['genre'] == col])\n",
    "        aux = data[data['genre'] == col].sample(sub_sample, axis=0, random_state=rs)\n",
    "    new_data =  pd.concat([aux, new_data], ignore_index=True, axis=0)\n",
    "\n",
    "data = new_data.sample(frac=1).reset_index(drop=True)\n",
    "# data = data[data['genre'] != 'rock']\n"
   ]
  },
  {
   "cell_type": "code",
   "execution_count": 14,
   "metadata": {},
   "outputs": [
    {
     "data": {
      "text/html": [
       "<div>\n",
       "<style scoped>\n",
       "    .dataframe tbody tr th:only-of-type {\n",
       "        vertical-align: middle;\n",
       "    }\n",
       "\n",
       "    .dataframe tbody tr th {\n",
       "        vertical-align: top;\n",
       "    }\n",
       "\n",
       "    .dataframe thead th {\n",
       "        text-align: right;\n",
       "    }\n",
       "</style>\n",
       "<table border=\"1\" class=\"dataframe\">\n",
       "  <thead>\n",
       "    <tr style=\"text-align: right;\">\n",
       "      <th></th>\n",
       "      <th>content</th>\n",
       "      <th>genre</th>\n",
       "    </tr>\n",
       "  </thead>\n",
       "  <tbody>\n",
       "    <tr>\n",
       "      <th>0</th>\n",
       "      <td>there are two basic reason whi compos like phi...</td>\n",
       "      <td>experimental</td>\n",
       "    </tr>\n",
       "    <tr>\n",
       "      <th>1</th>\n",
       "      <td>the knife tour behind last year shake the habi...</td>\n",
       "      <td>experimental</td>\n",
       "    </tr>\n",
       "    <tr>\n",
       "      <th>2</th>\n",
       "      <td>there must be someth odd go on in the quiet li...</td>\n",
       "      <td>jazz</td>\n",
       "    </tr>\n",
       "    <tr>\n",
       "      <th>3</th>\n",
       "      <td>bruce brubak is one of the most excit pianist ...</td>\n",
       "      <td>experimental</td>\n",
       "    </tr>\n",
       "    <tr>\n",
       "      <th>4</th>\n",
       "      <td>panopticon the solo vehicl of minnesotaviakent...</td>\n",
       "      <td>metal</td>\n",
       "    </tr>\n",
       "    <tr>\n",
       "      <th>...</th>\n",
       "      <td>...</td>\n",
       "      <td>...</td>\n",
       "    </tr>\n",
       "    <tr>\n",
       "      <th>3093</th>\n",
       "      <td>dj spooki and scanner are both gabber about co...</td>\n",
       "      <td>jazz</td>\n",
       "    </tr>\n",
       "    <tr>\n",
       "      <th>3094</th>\n",
       "      <td>for guy whove work close with nine inch nail t...</td>\n",
       "      <td>electronic</td>\n",
       "    </tr>\n",
       "    <tr>\n",
       "      <th>3095</th>\n",
       "      <td>sweden witchcraft are key figur in the socal h...</td>\n",
       "      <td>metal</td>\n",
       "    </tr>\n",
       "    <tr>\n",
       "      <th>3096</th>\n",
       "      <td>you often hear lucki dragon the los angelesbas...</td>\n",
       "      <td>experimental</td>\n",
       "    </tr>\n",
       "    <tr>\n",
       "      <th>3097</th>\n",
       "      <td>miami dj khale doesnt realli do much he doesnt...</td>\n",
       "      <td>rap</td>\n",
       "    </tr>\n",
       "  </tbody>\n",
       "</table>\n",
       "<p>3098 rows × 2 columns</p>\n",
       "</div>"
      ],
      "text/plain": [
       "                                                content         genre\n",
       "0     there are two basic reason whi compos like phi...  experimental\n",
       "1     the knife tour behind last year shake the habi...  experimental\n",
       "2     there must be someth odd go on in the quiet li...          jazz\n",
       "3     bruce brubak is one of the most excit pianist ...  experimental\n",
       "4     panopticon the solo vehicl of minnesotaviakent...         metal\n",
       "...                                                 ...           ...\n",
       "3093  dj spooki and scanner are both gabber about co...          jazz\n",
       "3094  for guy whove work close with nine inch nail t...    electronic\n",
       "3095  sweden witchcraft are key figur in the socal h...         metal\n",
       "3096  you often hear lucki dragon the los angelesbas...  experimental\n",
       "3097  miami dj khale doesnt realli do much he doesnt...           rap\n",
       "\n",
       "[3098 rows x 2 columns]"
      ]
     },
     "execution_count": 14,
     "metadata": {},
     "output_type": "execute_result"
    }
   ],
   "source": [
    "data"
   ]
  },
  {
   "cell_type": "code",
   "execution_count": 16,
   "metadata": {},
   "outputs": [
    {
     "name": "stdout",
     "output_type": "stream",
     "text": [
      "[('experimental', 400), ('rap', 400), ('folk/country', 400), ('rock', 400), ('electronic', 400), ('pop/r&b', 400), ('metal', 357), ('jazz', 341)]\n",
      "3098\n"
     ]
    }
   ],
   "source": [
    "print(Counter(data.genre).most_common(10))\n",
    "print(len(data.index))"
   ]
  },
  {
   "cell_type": "code",
   "execution_count": 18,
   "metadata": {},
   "outputs": [],
   "source": [
    "X = data.content.apply(lambda x: np.str_(x))\n",
    "y = data.genre.apply(lambda x: np.str_(x))"
   ]
  },
  {
   "cell_type": "code",
   "execution_count": 19,
   "metadata": {},
   "outputs": [
    {
     "name": "stdout",
     "output_type": "stream",
     "text": [
      "(3098,)\n",
      "(3098,)\n"
     ]
    }
   ],
   "source": [
    "print(X.shape)\n",
    "print(y.shape)"
   ]
  },
  {
   "cell_type": "code",
   "execution_count": 20,
   "metadata": {},
   "outputs": [],
   "source": [
    "tfidf = TfidfVectorizer(min_df=30)\n",
    "le = LabelEncoder()"
   ]
  },
  {
   "cell_type": "code",
   "execution_count": 21,
   "metadata": {},
   "outputs": [],
   "source": [
    "X_train, X_test, y_train, y_test = train_test_split(X, y, train_size=0.8, shuffle=True, random_state=rs) "
   ]
  },
  {
   "cell_type": "code",
   "execution_count": 22,
   "metadata": {},
   "outputs": [],
   "source": [
    "X_train  = tfidf.fit_transform(X_train)\n",
    "X_test = tfidf.transform(X_test)\n",
    "\n",
    "y_train_labels = le.fit_transform(y_train)\n",
    "y_test_labels = le.fit_transform(y_test)"
   ]
  },
  {
   "cell_type": "markdown",
   "metadata": {},
   "source": [
    "# Baselie prediction"
   ]
  },
  {
   "cell_type": "code",
   "execution_count": 54,
   "metadata": {},
   "outputs": [],
   "source": [
    "# print(get_random_prediction(X_test, y_test, 2) * 100)"
   ]
  },
  {
   "cell_type": "markdown",
   "metadata": {},
   "source": [
    "# Random Forest"
   ]
  },
  {
   "cell_type": "code",
   "execution_count": 55,
   "metadata": {},
   "outputs": [],
   "source": [
    "# model = RandomForestClassifier()\n",
    "# model.fit(X_train, y_train)\n",
    "# print(model.score(X_test, y_test) * 100)"
   ]
  },
  {
   "cell_type": "markdown",
   "metadata": {},
   "source": [
    "# k Means"
   ]
  },
  {
   "cell_type": "code",
   "execution_count": 56,
   "metadata": {},
   "outputs": [],
   "source": [
    "# nr_clusters = len(set(y_train))\n",
    "# print(nr_clusters)"
   ]
  },
  {
   "cell_type": "code",
   "execution_count": 57,
   "metadata": {},
   "outputs": [],
   "source": [
    "# km = MiniBatchKMeans(random_state=42)\n",
    "\n",
    "# sil = KElbowVisualizer(km, k=(4,10), metric='silhouette', timings=False)\n",
    "\n",
    "# sil.fit(X_train)        # Fit the data to the visualizer\n",
    "# sil.show()        # Finalize and render the figure"
   ]
  },
  {
   "cell_type": "code",
   "execution_count": 58,
   "metadata": {},
   "outputs": [],
   "source": [
    "# distortion = KElbowVisualizer(km, k=(4,15), timings=False)\n",
    "\n",
    "# distortion.fit(X_train)        # Fit the data to the visualizer\n",
    "# distortion.show()        # Finalize and render the figure"
   ]
  },
  {
   "cell_type": "code",
   "execution_count": 59,
   "metadata": {},
   "outputs": [
    {
     "data": {
      "text/plain": [
       "KMeans()"
      ]
     },
     "execution_count": 59,
     "metadata": {},
     "output_type": "execute_result"
    }
   ],
   "source": [
    "kmeans = KMeans(n_clusters=8)\n",
    "kmeans.fit(X_train)"
   ]
  },
  {
   "cell_type": "code",
   "execution_count": 60,
   "metadata": {},
   "outputs": [
    {
     "name": "stdout",
     "output_type": "stream",
     "text": [
      "[5 5 7 ... 5 4 5]\n",
      "[1 0 3 ... 0 4 4]\n"
     ]
    }
   ],
   "source": [
    "print(kmeans.labels_)\n",
    "print(y_train_labels)"
   ]
  },
  {
   "cell_type": "code",
   "execution_count": 61,
   "metadata": {},
   "outputs": [
    {
     "name": "stderr",
     "output_type": "stream",
     "text": [
      "No handles with labels found to put in legend.\n"
     ]
    },
    {
     "data": {
      "image/png": "[encoded data removed]",
      "text/plain": [
       "<Figure size 576x396 with 1 Axes>"
      ]
     },
     "metadata": {},
     "output_type": "display_data"
    }
   ],
   "source": [
    "plot2d(X_train, kmeans.labels_, y_train_labels, mode=TSNE, centroids=kmeans.cluster_centers_)"
   ]
  },
  {
   "cell_type": "code",
   "execution_count": null,
   "metadata": {},
   "outputs": [],
   "source": []
  }
 ],
 "metadata": {
  "kernelspec": {
   "display_name": "Python 3",
   "language": "python",
   "name": "python3"
  },
  "language_info": {
   "codemirror_mode": {
    "name": "ipython",
    "version": 3
   },
   "file_extension": ".py",
   "mimetype": "text/x-python",
   "name": "python",
   "nbconvert_exporter": "python",
   "pygments_lexer": "ipython3",
   "version": "3.8.5"
  }
 },
 "nbformat": 4,
 "nbformat_minor": 4
}
